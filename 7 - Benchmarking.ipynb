{
 "cells": [
  {
   "cell_type": "markdown",
   "metadata": {},
   "source": [
    "# Ch. 7. Benchmarking"
   ]
  },
  {
   "cell_type": "markdown",
   "metadata": {},
   "source": [
    "## I. Why Benchmark?\n",
    "By now, you (hopefully) understand a lot more about HPC, parallelism, concurrency, and distributed computing than you did before you started this course. You should feel fairly comfortable modifying serial code to make it parallel or concurrent, where appropriate, and you should feel fairly comfortable writing parallel algorithms and workflows yourself. In order to do this well, you need to be able to benchmark your algorithms and the systems they run on. You know the basics of how to analyze parallel algorithms, but it's always useful to collect empirical measurements, and it's also usually easier to collect empirical data than it is to do mathematical analysis of parallel algorithms.\n",
    "\n",
    "So, now that we're through with that, what is benchmarking? A _benchmark_ is the act of running a computer program, a set of programs, or other operations, in order to assess the relative performance of an object, normally by running a number of standard tests and trials against it. Benchmarking is usually associated with assessing performance characteristics of computer hardware, for example, the floating point operation performance of a CPU, but there are circumstances when the technique is also applicable to software. In this notebook, we will be doing a bit of both. The following graph is an example of historical benchmarks going back to 1996:\n",
    "![benchmarks of old](http://preshing.com/images/float-point-perf.png)"
   ]
  },
  {
   "cell_type": "markdown",
   "metadata": {},
   "source": [
    "### Example 7.1 - Reading Files Vs Reading From Memory\n",
    "Remember in Ch. 3 when I mentioned that you should try and stay away from reading and writing to disk as much as possible? I mentioned that it is much slower to read and write to disk than it is to memory. In this example, we're going to quantify that. I've designed a [python decorator](https://www.python.org/dev/peps/pep-0318/) to be used as a timer. In order to use it, you \"decorate\" a function with it by putting `@timed` over the function definition. You'll see what I mean by this in the code cell below. In this example, we're going to create a multidimensional array, store it to memory, and read it from memory. Then, we're going to do the same with a file. We'll use the decorator to time it."
   ]
  },
  {
   "cell_type": "code",
   "execution_count": 7,
   "metadata": {},
   "outputs": [],
   "source": [
    "import time\n",
    "\n",
    "def timed(func):\n",
    "    \"\"\"\n",
    "      decorator to calculate the total\n",
    "      time of a function\n",
    "    \"\"\"\n",
    "\n",
    "    def st_func(*args, **keyArgs):\n",
    "        t1 = time.time()\n",
    "        r = func(*args, **keyArgs)\n",
    "        t2 = time.time()\n",
    "        print( \"Function=%s, Time=%ssec\" % (func.__name__, t2 - t1))\n",
    "        return r\n",
    "\n",
    "    return st_func\n",
    "\n",
    "@timed\n",
    "def memory_test():\n",
    "    import random\n",
    "    arr = [[[x for x in range(100)] for y in range(1000)] for z in range(1000)]\n",
    "    print(len(arr))\n",
    "    \n",
    "@timed\n",
    "def file_test():\n",
    "    import ast\n",
    "    # Note that the array is much smaller in the file test\n",
    "    # But it is still **MUCH** slower\n",
    "    arr = [[[x for x in range(100)] for y in range(100)] for z in range(1000)]\n",
    "    with open(\"data/matrix.out\", \"w\") as f:\n",
    "        f.write(str(arr))\n",
    "    with open(\"data/matrix.out\") as f:\n",
    "        arr = ast.literal_eval(f.read())\n",
    "    print(len(arr))"
   ]
  },
  {
   "cell_type": "code",
   "execution_count": 8,
   "metadata": {},
   "outputs": [
    {
     "name": "stdout",
     "output_type": "stream",
     "text": [
      "1000\n",
      "Function=memory_test, Time=4.731260538101196sec\n",
      "1000\n",
      "Function=file_test, Time=32.03417468070984sec\n"
     ]
    }
   ],
   "source": [
    "memory_test()\n",
    "file_test()"
   ]
  },
  {
   "cell_type": "markdown",
   "metadata": {},
   "source": [
    "## II. Single Machine Benchmarking\n",
    "What we did in the last example was a benchmark of a single core algorithm, in order to learn for sure that file IO is much slower than reading and writing to memory. Now, we want to test a parallel algorithm and see how fast we can get it to go, on a single machine. "
   ]
  },
  {
   "cell_type": "markdown",
   "metadata": {},
   "source": [
    "### Example 7.2 - Timing Parallel Algorithms on One Machine\n",
    "To time parallel algorithms, we're going to use our monte carlo frog simulation from before. We'll time it and graph the times for different numbers of cores. Recall that there were three for loops nested within each other and we parallelized the outer loop. As an exercise, feel free to parallelize the middle and inner loops."
   ]
  },
  {
   "cell_type": "code",
   "execution_count": 11,
   "metadata": {},
   "outputs": [
    {
     "name": "stdout",
     "output_type": "stream",
     "text": [
      "1 Cores, 20.256629705429077 Sec\n",
      "3 Cores, 8.009944915771484 Sec\n",
      "5 Cores, 5.407214164733887 Sec\n",
      "7 Cores, 3.988351583480835 Sec\n",
      "9 Cores, 3.69417667388916 Sec\n",
      "11 Cores, 2.9964113235473633 Sec\n",
      "13 Cores, 2.8494043350219727 Sec\n",
      "15 Cores, 2.754909038543701 Sec\n",
      "17 Cores, 2.533881664276123 Sec\n",
      "19 Cores, 2.1887996196746826 Sec\n",
      "21 Cores, 2.132205009460449 Sec\n",
      "23 Cores, 2.398420572280884 Sec\n",
      "25 Cores, 2.1750400066375732 Sec\n",
      "27 Cores, 2.052276372909546 Sec\n",
      "29 Cores, 2.2345683574676514 Sec\n",
      "31 Cores, 2.19981050491333 Sec\n",
      "CPU times: user 3.26 s, sys: 21.4 s, total: 24.6 s\n",
      "Wall time: 1min 18s\n"
     ]
    }
   ],
   "source": [
    "%%time\n",
    "# Parallel frog solution\n",
    "\n",
    "import math\n",
    "import random\n",
    "import time\n",
    "from multiprocessing import Pool\n",
    "\n",
    "\n",
    "# We parallelize the same way here, by turning for loops into functions and mapping to them\n",
    "\n",
    "def outer_loop(numJumps):\n",
    "    numTries=100000\n",
    "    lenJump=1\n",
    "    numSuccesses=0\n",
    "    #randomly test 1 million times and see what happens\n",
    "    for j in range(numTries):\n",
    "        #vector representing distance of 0 from origin\n",
    "        frogPosition=[0.0,0.0]\n",
    "        for i in range(0,numJumps,1):\n",
    "            #generate a random angle\n",
    "            theta=random.uniform(0,2*math.pi)\n",
    "            #add to x and y components of frog position vectors\n",
    "            frogPosition[0]+=lenJump*math.cos(theta)\n",
    "            frogPosition[1]+=lenJump*math.sin(theta)\n",
    "        #compute magnitude of final frog position vector\n",
    "        frogMagnitude=((frogPosition[0]**2+frogPosition[1]**2)**0.5)\n",
    "\n",
    "        #check if frog landed where we wanted it to\n",
    "        if frogMagnitude<=1.0:\n",
    "            #keep track of successes\n",
    "            numSuccesses+=float(1)\n",
    "    \n",
    "    #compute success rate\n",
    "    successRate=float(numSuccesses/numTries)    \n",
    "    # print(\"If the frog jumps %s times, it will land in the original circle\\\n",
    "    # approximately %s times, representing a success rate of %s\"%(numJumps,int(numSuccesses),successRate))\n",
    "\n",
    "times = []\n",
    "for i in range(1,32, 2):\n",
    "    # Note that this takes a while to run - about a minute\n",
    "    pool = Pool(i)\n",
    "    before = time.time()\n",
    "    tasks = [pool.apply_async(outer_loop, (j,)) for j in range(1,20)]\n",
    "    tasks[-1].get()\n",
    "    after = time.time()\n",
    "    tot = after - before\n",
    "    times.append(tot)\n",
    "    print(\"{} Cores, {} Sec\".format(i, tot))"
   ]
  },
  {
   "cell_type": "code",
   "execution_count": 13,
   "metadata": {},
   "outputs": [
    {
     "data": {
      "image/png": "[encoded data removed]",
      "text/plain": [
       "<Figure size 432x288 with 1 Axes>"
      ]
     },
     "metadata": {},
     "output_type": "display_data"
    }
   ],
   "source": [
    "%matplotlib inline\n",
    "# Plot the times we collected\n",
    "import matplotlib.pyplot as plt\n",
    "import numpy as np\n",
    "\n",
    "#h Helper function to plot an equation\n",
    "def graph(formula, x_range):  \n",
    "    x = np.array(x_range)  \n",
    "    y = formula(x) \n",
    "    plt.plot(x, y)  \n",
    "\n",
    "# Graph theoretical maximum (in blue)\n",
    "graph(lambda x: 23/x, range(1, 32))\n",
    "\n",
    "# Graph empirical data (in orange)\n",
    "plt.plot(range(1,32, 2), times)\n",
    "\n",
    "plt.ylabel(\"Execution Time (sec)\")\n",
    "plt.xlabel(\"Number of cores\")\n",
    "plt.title(\"Execution Time vs Number of Cores for Monte Carlo Frog Simulation\")\n",
    "plt.show()"
   ]
  },
  {
   "cell_type": "markdown",
   "metadata": {},
   "source": [
    "## III. Distributed Benchmarking\n",
    "Distributed benchmarking is, as it sounds, benchmarking a distributed algorithm on a distributed system. Many of the considerations you need to make when you write a distributed algorithm also need to be made when you benchmark a distributed algorithm as well. You need to worry about what parts of your algorithm can run concurrently, as often, things can be offloaded to remote machines if they can be run concurrently. You need to worry about which parts of your process need to access things from other parts, because you can't depend on all of the remote parts of your code having access to the same memory pool as any other part. Because of this, you need to worry about how you can have the processes communicate with each other. Because of all of this complexity, you need to make sure you know how you can ensure that your benchmarking does not affect the output or speed of your algorithm."
   ]
  },
  {
   "cell_type": "markdown",
   "metadata": {},
   "source": [
    "### Example 7.3 - Timing Parallel Algorithms on Many Machines\n",
    "We've now benchmarked our algorithm and our machine with one machine. Now, let's use Parsl to help us benchmark our algorithms on the entire HPC system. We're going to be using our friend the Monte Carlo Pi simulation in order to help us do that."
   ]
  },
  {
   "cell_type": "code",
   "execution_count": 7,
   "metadata": {},
   "outputs": [],
   "source": [
    "# Workflow defined here:\n",
    "from parsl import *\n",
    "import logging\n",
    "dfk = DataFlowKernel(executors=[ThreadPoolExecutor(max_workers=32)])\n",
    "\n",
    "@App('python', dfk)\n",
    "def pi(total):\n",
    "    # App functions have to import modules they will use.\n",
    "    import random\n",
    "    # Set the size of the box (edge length) in which we drop random points\n",
    "    edge_length = 10000\n",
    "    center = edge_length / 2\n",
    "    c2 = center ** 2\n",
    "    count = 0\n",
    "\n",
    "    for i in range(total):\n",
    "        # Drop a random point in the box.\n",
    "        x, y = random.randint(1, edge_length), random.randint(1, edge_length)\n",
    "        # Count points within the circle\n",
    "        if (x - center)**2 + (y - center)**2 < c2:\n",
    "            count += 1\n",
    "\n",
    "    return (count * 4 / total)\n",
    "\n",
    "\n",
    "@App('python', dfk)\n",
    "def avg_n(inputs=[]):\n",
    "    return sum(inputs) / len(inputs)\n"
   ]
  },
  {
   "cell_type": "code",
   "execution_count": 8,
   "metadata": {},
   "outputs": [
    {
     "name": "stdout",
     "output_type": "stream",
     "text": [
      "Average: 3.1413012 (1 cores, 31.70084261894226 sec)\n",
      "Average: 3.142164 (2 cores, 30.619962692260742 sec)\n",
      "Average: 3.1419068 (3 cores, 30.057994604110718 sec)\n",
      "Average: 3.1418671999999996 (4 cores, 32.9293897151947 sec)\n",
      "Average: 3.1413976 (5 cores, 31.5192928314209 sec)\n",
      "Average: 3.141296 (6 cores, 33.27272057533264 sec)\n",
      "Average: 3.1419968000000003 (7 cores, 33.408687353134155 sec)\n",
      "Average: 3.1415204 (8 cores, 32.122639179229736 sec)\n",
      "Average: 3.1409136 (9 cores, 31.64089798927307 sec)\n"
     ]
    },
    {
     "ename": "KeyboardInterrupt",
     "evalue": "",
     "output_type": "error",
     "traceback": [
      "\u001b[0;31m---------------------------------------------------------------------------\u001b[0m",
      "\u001b[0;31mKeyboardInterrupt\u001b[0m                         Traceback (most recent call last)",
      "\u001b[0;32m<ipython-input-8-1f06351aa56e>\u001b[0m in \u001b[0;36m<module>\u001b[0;34m()\u001b[0m\n\u001b[1;32m     44\u001b[0m     \u001b[0mbefore\u001b[0m \u001b[0;34m=\u001b[0m \u001b[0mtime\u001b[0m\u001b[0;34m.\u001b[0m\u001b[0mtime\u001b[0m\u001b[0;34m(\u001b[0m\u001b[0;34m)\u001b[0m\u001b[0;34m\u001b[0m\u001b[0m\n\u001b[1;32m     45\u001b[0m     \u001b[0msims\u001b[0m \u001b[0;34m=\u001b[0m \u001b[0;34m[\u001b[0m\u001b[0mpi\u001b[0m\u001b[0;34m(\u001b[0m\u001b[0;36m10\u001b[0m\u001b[0;34m**\u001b[0m\u001b[0;36m6\u001b[0m\u001b[0;34m)\u001b[0m \u001b[0;32mfor\u001b[0m \u001b[0mi\u001b[0m \u001b[0;32min\u001b[0m \u001b[0mrange\u001b[0m\u001b[0;34m(\u001b[0m\u001b[0mN\u001b[0m\u001b[0;34m)\u001b[0m\u001b[0;34m]\u001b[0m\u001b[0;34m\u001b[0m\u001b[0m\n\u001b[0;32m---> 46\u001b[0;31m     \u001b[0mavg_pi\u001b[0m \u001b[0;34m=\u001b[0m \u001b[0mavg_n\u001b[0m\u001b[0;34m(\u001b[0m\u001b[0;34m[\u001b[0m\u001b[0mtask\u001b[0m\u001b[0;34m.\u001b[0m\u001b[0mresult\u001b[0m\u001b[0;34m(\u001b[0m\u001b[0;34m)\u001b[0m \u001b[0;32mfor\u001b[0m \u001b[0mtask\u001b[0m \u001b[0;32min\u001b[0m \u001b[0msims\u001b[0m\u001b[0;34m]\u001b[0m\u001b[0;34m)\u001b[0m\u001b[0;34m\u001b[0m\u001b[0m\n\u001b[0m\u001b[1;32m     47\u001b[0m     \u001b[0mafter\u001b[0m \u001b[0;34m=\u001b[0m \u001b[0mtime\u001b[0m\u001b[0;34m.\u001b[0m\u001b[0mtime\u001b[0m\u001b[0;34m(\u001b[0m\u001b[0;34m)\u001b[0m\u001b[0;34m\u001b[0m\u001b[0m\n\u001b[1;32m     48\u001b[0m     \u001b[0mtot\u001b[0m \u001b[0;34m=\u001b[0m \u001b[0mafter\u001b[0m\u001b[0;34m-\u001b[0m\u001b[0mbefore\u001b[0m\u001b[0;34m\u001b[0m\u001b[0m\n",
      "\u001b[0;32m<ipython-input-8-1f06351aa56e>\u001b[0m in \u001b[0;36m<listcomp>\u001b[0;34m(.0)\u001b[0m\n\u001b[1;32m     44\u001b[0m     \u001b[0mbefore\u001b[0m \u001b[0;34m=\u001b[0m \u001b[0mtime\u001b[0m\u001b[0;34m.\u001b[0m\u001b[0mtime\u001b[0m\u001b[0;34m(\u001b[0m\u001b[0;34m)\u001b[0m\u001b[0;34m\u001b[0m\u001b[0m\n\u001b[1;32m     45\u001b[0m     \u001b[0msims\u001b[0m \u001b[0;34m=\u001b[0m \u001b[0;34m[\u001b[0m\u001b[0mpi\u001b[0m\u001b[0;34m(\u001b[0m\u001b[0;36m10\u001b[0m\u001b[0;34m**\u001b[0m\u001b[0;36m6\u001b[0m\u001b[0;34m)\u001b[0m \u001b[0;32mfor\u001b[0m \u001b[0mi\u001b[0m \u001b[0;32min\u001b[0m \u001b[0mrange\u001b[0m\u001b[0;34m(\u001b[0m\u001b[0mN\u001b[0m\u001b[0;34m)\u001b[0m\u001b[0;34m]\u001b[0m\u001b[0;34m\u001b[0m\u001b[0m\n\u001b[0;32m---> 46\u001b[0;31m     \u001b[0mavg_pi\u001b[0m \u001b[0;34m=\u001b[0m \u001b[0mavg_n\u001b[0m\u001b[0;34m(\u001b[0m\u001b[0;34m[\u001b[0m\u001b[0mtask\u001b[0m\u001b[0;34m.\u001b[0m\u001b[0mresult\u001b[0m\u001b[0;34m(\u001b[0m\u001b[0;34m)\u001b[0m \u001b[0;32mfor\u001b[0m \u001b[0mtask\u001b[0m \u001b[0;32min\u001b[0m \u001b[0msims\u001b[0m\u001b[0;34m]\u001b[0m\u001b[0;34m)\u001b[0m\u001b[0;34m\u001b[0m\u001b[0m\n\u001b[0m\u001b[1;32m     47\u001b[0m     \u001b[0mafter\u001b[0m \u001b[0;34m=\u001b[0m \u001b[0mtime\u001b[0m\u001b[0;34m.\u001b[0m\u001b[0mtime\u001b[0m\u001b[0;34m(\u001b[0m\u001b[0;34m)\u001b[0m\u001b[0;34m\u001b[0m\u001b[0m\n\u001b[1;32m     48\u001b[0m     \u001b[0mtot\u001b[0m \u001b[0;34m=\u001b[0m \u001b[0mafter\u001b[0m\u001b[0;34m-\u001b[0m\u001b[0mbefore\u001b[0m\u001b[0;34m\u001b[0m\u001b[0m\n",
      "\u001b[0;32m/local/cluster/lib/python3.6/site-packages/parsl/dataflow/futures.py\u001b[0m in \u001b[0;36mresult\u001b[0;34m(self, timeout)\u001b[0m\n\u001b[1;32m    105\u001b[0m             \u001b[0;32mif\u001b[0m \u001b[0mx\u001b[0m\u001b[0;34m:\u001b[0m\u001b[0;34m\u001b[0m\u001b[0m\n\u001b[1;32m    106\u001b[0m                 \u001b[0;32mraise\u001b[0m \u001b[0mx\u001b[0m\u001b[0;34m\u001b[0m\u001b[0m\n\u001b[0;32m--> 107\u001b[0;31m             \u001b[0;32mreturn\u001b[0m \u001b[0mself\u001b[0m\u001b[0;34m.\u001b[0m\u001b[0mparent\u001b[0m\u001b[0;34m.\u001b[0m\u001b[0mresult\u001b[0m\u001b[0;34m(\u001b[0m\u001b[0mtimeout\u001b[0m\u001b[0;34m=\u001b[0m\u001b[0mtimeout\u001b[0m\u001b[0;34m)\u001b[0m\u001b[0;34m\u001b[0m\u001b[0m\n\u001b[0m\u001b[1;32m    108\u001b[0m         \u001b[0;32melse\u001b[0m\u001b[0;34m:\u001b[0m\u001b[0;34m\u001b[0m\u001b[0m\n\u001b[1;32m    109\u001b[0m             \u001b[0;32mreturn\u001b[0m \u001b[0msuper\u001b[0m\u001b[0;34m(\u001b[0m\u001b[0;34m)\u001b[0m\u001b[0;34m.\u001b[0m\u001b[0mresult\u001b[0m\u001b[0;34m(\u001b[0m\u001b[0mtimeout\u001b[0m\u001b[0;34m=\u001b[0m\u001b[0mtimeout\u001b[0m\u001b[0;34m)\u001b[0m\u001b[0;34m\u001b[0m\u001b[0m\n",
      "\u001b[0;32m/local/cluster/lib/python3.6/concurrent/futures/_base.py\u001b[0m in \u001b[0;36mresult\u001b[0;34m(self, timeout)\u001b[0m\n\u001b[1;32m    425\u001b[0m                 \u001b[0;32mreturn\u001b[0m \u001b[0mself\u001b[0m\u001b[0;34m.\u001b[0m\u001b[0m__get_result\u001b[0m\u001b[0;34m(\u001b[0m\u001b[0;34m)\u001b[0m\u001b[0;34m\u001b[0m\u001b[0m\n\u001b[1;32m    426\u001b[0m \u001b[0;34m\u001b[0m\u001b[0m\n\u001b[0;32m--> 427\u001b[0;31m             \u001b[0mself\u001b[0m\u001b[0;34m.\u001b[0m\u001b[0m_condition\u001b[0m\u001b[0;34m.\u001b[0m\u001b[0mwait\u001b[0m\u001b[0;34m(\u001b[0m\u001b[0mtimeout\u001b[0m\u001b[0;34m)\u001b[0m\u001b[0;34m\u001b[0m\u001b[0m\n\u001b[0m\u001b[1;32m    428\u001b[0m \u001b[0;34m\u001b[0m\u001b[0m\n\u001b[1;32m    429\u001b[0m             \u001b[0;32mif\u001b[0m \u001b[0mself\u001b[0m\u001b[0;34m.\u001b[0m\u001b[0m_state\u001b[0m \u001b[0;32min\u001b[0m \u001b[0;34m[\u001b[0m\u001b[0mCANCELLED\u001b[0m\u001b[0;34m,\u001b[0m \u001b[0mCANCELLED_AND_NOTIFIED\u001b[0m\u001b[0;34m]\u001b[0m\u001b[0;34m:\u001b[0m\u001b[0;34m\u001b[0m\u001b[0m\n",
      "\u001b[0;32m/local/cluster/lib/python3.6/threading.py\u001b[0m in \u001b[0;36mwait\u001b[0;34m(self, timeout)\u001b[0m\n\u001b[1;32m    293\u001b[0m         \u001b[0;32mtry\u001b[0m\u001b[0;34m:\u001b[0m    \u001b[0;31m# restore state no matter what (e.g., KeyboardInterrupt)\u001b[0m\u001b[0;34m\u001b[0m\u001b[0m\n\u001b[1;32m    294\u001b[0m             \u001b[0;32mif\u001b[0m \u001b[0mtimeout\u001b[0m \u001b[0;32mis\u001b[0m \u001b[0;32mNone\u001b[0m\u001b[0;34m:\u001b[0m\u001b[0;34m\u001b[0m\u001b[0m\n\u001b[0;32m--> 295\u001b[0;31m                 \u001b[0mwaiter\u001b[0m\u001b[0;34m.\u001b[0m\u001b[0macquire\u001b[0m\u001b[0;34m(\u001b[0m\u001b[0;34m)\u001b[0m\u001b[0;34m\u001b[0m\u001b[0m\n\u001b[0m\u001b[1;32m    296\u001b[0m                 \u001b[0mgotit\u001b[0m \u001b[0;34m=\u001b[0m \u001b[0;32mTrue\u001b[0m\u001b[0;34m\u001b[0m\u001b[0m\n\u001b[1;32m    297\u001b[0m             \u001b[0;32melse\u001b[0m\u001b[0;34m:\u001b[0m\u001b[0;34m\u001b[0m\u001b[0m\n",
      "\u001b[0;31mKeyboardInterrupt\u001b[0m: "
     ]
    }
   ],
   "source": [
    "from parsl import *\n",
    "import logging\n",
    "import os\n",
    "import time\n",
    "os.environ['SGE_ROOT'] = '/local/cluster/sge'\n",
    "\n",
    "# Call the workflow:\n",
    "times = []\n",
    "for i in range(1, 32, 2):\n",
    "    ipp_config = {\n",
    "    \"sites\": [{\n",
    "        \"site\": \"LC_Cluster\",\n",
    "        \"auth\": {\n",
    "            \"channel\": \"local\"\n",
    "        },\n",
    "        \"execution\": {\n",
    "            \"executor\": \"ipp\",\n",
    "            \"provider\": \"sge\",\n",
    "            \"script_dir\": \".scripts\",\n",
    "            \"scriptDir\": \".scripts\",\n",
    "            \"block\": {\n",
    "                \"nodes\": 1,\n",
    "                \"taskBlocks\": 1,\n",
    "                \"walltime\": \"00:05:00\",\n",
    "                \"initBlocks\": 1,\n",
    "                \"minBlocks\": 0,\n",
    "                \"maxBlocks\": 10,\n",
    "                \"scriptDir\": \".\",\n",
    "                \"options\": {\n",
    "                    \"partition\": \"debug\"\n",
    "                }\n",
    "            }\n",
    "        }\n",
    "    }],\n",
    "    \"globals\": {\"lazyErrors\": True},\n",
    "    \"controller\": {\"profile\": \"default\"},\n",
    "    }\n",
    "\n",
    "    N = 10\n",
    "    # Change the max cores programmatically\n",
    "    ipp_config[\"sites\"][0][\"execution\"][\"block\"][\"maxBlocks\"] = i\n",
    "    dfk = DataFlowKernel(config=ipp_config)\n",
    "    \n",
    "    before = time.time()\n",
    "    sims = [pi(10**6) for i in range(N)]\n",
    "    avg_pi = avg_n([task.result() for task in sims])\n",
    "    after = time.time()\n",
    "    tot = after-before\n",
    "    times.append(tot)\n",
    "    print(\"Average: {} ({} cores, {} sec)\".format(avg_pi.result(), i, tot))\n",
    "    dfk.cleanup()"
   ]
  },
  {
   "cell_type": "code",
   "execution_count": null,
   "metadata": {},
   "outputs": [],
   "source": [
    "# Graph the results\n",
    "%matplotlib inline\n",
    "# Plot the times we collected\n",
    "import matplotlib.pyplot as plt\n",
    "import numpy as np\n",
    "\n",
    "#h Helper function to plot an equation\n",
    "def graph(formula, x_range):  \n",
    "    x = np.array(x_range)  \n",
    "    y = formula(x) \n",
    "    plt.plot(x, y)  \n",
    "\n",
    "# Graph theoretical maximum (in blue)\n",
    "graph(lambda x: 32/x, range(1, 32))\n",
    "\n",
    "# Graph empirical data (in orange)\n",
    "plt.plot(range(1,32, 2), times)\n",
    "\n",
    "plt.ylabel(\"Execution Time (sec)\")\n",
    "plt.xlabel(\"Number of cores\")\n",
    "plt.title(\"Execution Time vs Number of Cores for Monte Carlo Pi\")\n",
    "plt.show()"
   ]
  },
  {
   "cell_type": "markdown",
   "metadata": {},
   "source": [
    "## System Benchmarking\n",
    "So we've done a bunch of benchmarking of our software. Next, we are going to do some hardware benchmarking. Earlier in the notebook, I said \"Benchmarking is usually associated with assessing performance characteristics of computer hardware, for example, the floating point operation performance of a CPU\", and we're about to calculate exactly that. \n",
    "\n",
    "The way we will do this is by the following process: First, come up with a task that will take a constant amount of computer power. Then, compute what that amount of power is, by counting the number of floating point instructions that it will take to run the code. Then, repeatedly time the code and divide the number of floating point instructions by the time it took to get a measurement in FLOPS of how performant our computer is."
   ]
  },
  {
   "cell_type": "markdown",
   "metadata": {},
   "source": [
    "### Example 7.4 - Using a Workflow to Estimate System Power\n",
    "We're going to perform a fixed number of floating point instructions, specifically floating point adds, in a Python loop. Note that there is significant overhead involved with starting a python loop, so the quote of roughly 950 GFLOPS (last time I tested it) is quite a low estimate for this single machine."
   ]
  },
  {
   "cell_type": "code",
   "execution_count": 39,
   "metadata": {
    "code_folding": []
   },
   "outputs": [
    {
     "name": "stdout",
     "output_type": "stream",
     "text": [
      "20M FLOP in 1.5303223133087158 sec, 994.2466050865017GFLOPS\n"
     ]
    }
   ],
   "source": [
    "import time\n",
    "\n",
    "before = time.time()\n",
    "for i in range(10 ** 6):\n",
    "    floating_point = 1.0\n",
    "    float_increment = 1.0\n",
    "    floating_point += float_increment\n",
    "    floating_point += float_increment\n",
    "    floating_point += float_increment\n",
    "    floating_point += float_increment\n",
    "    floating_point += float_increment\n",
    "    floating_point += float_increment\n",
    "    floating_point += float_increment\n",
    "    floating_point += float_increment\n",
    "    floating_point += float_increment\n",
    "    floating_point += float_increment\n",
    "    floating_point += float_increment\n",
    "    floating_point += float_increment\n",
    "    floating_point += float_increment\n",
    "    floating_point += float_increment\n",
    "    floating_point += float_increment\n",
    "    floating_point += float_increment\n",
    "    floating_point += float_increment\n",
    "    floating_point += float_increment\n",
    "    floating_point += float_increment\n",
    "    floating_point += float_increment\n",
    "    floating_point += float_increment\n",
    "after = time.time()\n",
    "tot = after-before\n",
    "print(\"20M FLOP in {} sec, {}GFLOPS\".format(tot, ((20.5**7)/tot)/10**6))"
   ]
  },
  {
   "cell_type": "markdown",
   "metadata": {},
   "source": [
    "## Exercise 7. System Benchmarking\n",
    "Implement a workflow which takes a fixed amount of compute power. Calculate what that power is. Then, run it on one core. Run it on many cores. Finally, run it on many nodes. Use the speedup to calculate how powerful one core, one machine, and the entire system is."
   ]
  },
  {
   "cell_type": "code",
   "execution_count": 1,
   "metadata": {},
   "outputs": [
    {
     "name": "stdout",
     "output_type": "stream",
     "text": [
      "Enter a password to testaab\n",
      "Cracked aab 2\n",
      "0.001859426498413086 seconds\n"
     ]
    }
   ],
   "source": []
  }
 ],
 "metadata": {
  "kernelspec": {
   "display_name": "Python 3",
   "language": "python",
   "name": "python3"
  },
  "language_info": {
   "codemirror_mode": {
    "name": "ipython",
    "version": 3
   },
   "file_extension": ".py",
   "mimetype": "text/x-python",
   "name": "python",
   "nbconvert_exporter": "python",
   "pygments_lexer": "ipython3",
   "version": "3.6.4"
  },
  "latex_envs": {
   "LaTeX_envs_menu_present": true,
   "autoclose": false,
   "autocomplete": true,
   "bibliofile": "biblio.bib",
   "cite_by": "apalike",
   "current_citInitial": 1,
   "eqLabelWithNumbers": true,
   "eqNumInitial": 1,
   "hotkeys": {
    "equation": "Ctrl-E",
    "itemize": "Ctrl-I"
   },
   "labels_anchors": false,
   "latex_user_defs": false,
   "report_style_numbering": false,
   "user_envs_cfg": false
  }
 },
 "nbformat": 4,
 "nbformat_minor": 2
}
