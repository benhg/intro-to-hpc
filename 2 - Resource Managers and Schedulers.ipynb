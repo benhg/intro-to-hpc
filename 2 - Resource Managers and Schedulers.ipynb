{
 "cells": [
  {
   "cell_type": "markdown",
   "metadata": {},
   "source": [
    "# Ch. 2. Resource Managers"
   ]
  },
  {
   "cell_type": "markdown",
   "metadata": {},
   "source": [
    "## I. Interacting With the Operating System\n",
    "Programming languages are nice for carrying out computations based on input data. They have useful constructs like `for` loops, `if` statements, and module systems so that you can reuse code easily. However, for certain tasks, what's built in to the programming language is simply not enough. For situations like this, programming languages usually allow explicit interaction with the underlying operating system. In Python, this is handled by the `os` module. The following graphic helps to describe how the underlying OS behaves and how we can interact with it:\n",
    "![OS Architecture Diagram](https://docs.mesosphere.com/1.11/img/dcos-architecture-layers.png)\n",
    "\n",
    "The code you have been running in these notebooks fits into the \"services\" section of the software layer, and our OS interaction will allow us to request data and provide instructions to the objects in the \"platform\" layer.\n",
    "\n",
    "\n",
    "It is important to remember that Python code is meant to be portable, and you have to be careful when using the `os` module to ensure that your code can still be run on your target systems. This course is designed for \\*nix  systems (including macOS and BSD), and certain code written in examples will not run on windows systems, especially code from this chapter. "
   ]
  },
  {
   "cell_type": "markdown",
   "metadata": {},
   "source": [
    "### Example 2.1a - Basic Filesystem Interaction\n",
    "In this example, we will interact with the filesystem around us. The module `os` contains a lot of useful functionality for interacting with the filesystem, networking layers, and other OS-specific methods. For more information see the [`os` docs](https://docs.python.org/3/library/os.html)."
   ]
  },
  {
   "cell_type": "code",
   "execution_count": null,
   "metadata": {},
   "outputs": [],
   "source": [
    "# Ex. 2.1a - Filesystem interaction \n",
    "\n",
    "import os\n",
    "\n",
    "# We can list directories\n",
    "print(os.listdir('/home/users/glick/intro-to-hpc'))\n",
    "\n",
    "# We can make directories\n",
    "print(os.mkdir('/home/users/glick/intro-to-hpc/dira'))\n",
    "\n",
    "# List again to see the new directory\n",
    "print(os.listdir('/home/users/glick/intro-to-hpc'))\n",
    "\n",
    "# We can removie directories too\n",
    "print(os.rmdir('/home/users/glick/intro-to-hpc/dira'))\n",
    "\n",
    "# Finally, list again to see the new directory\n",
    "print(os.listdir('/home/users/glick/intro-to-hpc'))\n",
    "\n",
    "\n",
    "# Using open(), we can read and write files\n",
    "with open(\"/home/users/glick/intro-to-hpc/data/message.txt\", \"w\") as file:\n",
    "    file.write(\"Super Secret Message\")\n",
    "    \n",
    "with open(\"/home/users/glick/intro-to-hpc/data/message.txt\", \"r\") as file:\n",
    "    print(file.read())\n",
    "    \n",
    "# Delete our secret message\n",
    "os.remove(\"/home/users/glick/intro-to-hpc/data/message.txt\")"
   ]
  },
  {
   "cell_type": "markdown",
   "metadata": {},
   "source": [
    "### Example 2.1b - Opening Processes\n",
    "For things as universal as filesystem interaction, `os` has built-in functions to help you out. However, there are some things that the Python developers simply can't prepare for. Let's say you want to compile some code, run it, and print the output, all from within Python. This is simple with the command line, and Python's `os` module provides a way to run system commands through the command line, through a function called `os.popen()`. Please remember that this can be unsafe if you allow malicious actors to access your computer, so only use the `os.popen()` function when necessary."
   ]
  },
  {
   "cell_type": "code",
   "execution_count": null,
   "metadata": {},
   "outputs": [],
   "source": [
    "# Opening Processes\n",
    "# There is some code in /home/users/glick/intro-to-hpc/data/hello.c\n",
    "\n",
    "import os\n",
    "\n",
    "# Compile the code - There should be no output\n",
    "process = os.popen(\"cc /home/users/glick/intro-to-hpc/data/hello.c -o /home/users/glick/intro-to-hpc/data/hello.out\")\n",
    "print(process.read())\n",
    "\n",
    "# Run the code\n",
    "process = os.popen(\"/home/users/glick/intro-to-hpc/data/hello.out\")\n",
    "print(process.read())"
   ]
  },
  {
   "cell_type": "markdown",
   "metadata": {},
   "source": [
    "## II. What is a Resource Manager?"
   ]
  },
  {
   "cell_type": "markdown",
   "metadata": {},
   "source": [
    "### Example 2.2 - Submitting and Monitoring a Simple Resource Manager Job"
   ]
  },
  {
   "cell_type": "code",
   "execution_count": null,
   "metadata": {},
   "outputs": [],
   "source": []
  },
  {
   "cell_type": "markdown",
   "metadata": {},
   "source": [
    "## III. Programmatic Interaction"
   ]
  },
  {
   "cell_type": "markdown",
   "metadata": {},
   "source": [
    "### Example 2.3 - Lots of Jobs!"
   ]
  },
  {
   "cell_type": "code",
   "execution_count": null,
   "metadata": {},
   "outputs": [],
   "source": []
  },
  {
   "cell_type": "markdown",
   "metadata": {},
   "source": [
    "## IV. Basic Dataflows"
   ]
  },
  {
   "cell_type": "markdown",
   "metadata": {},
   "source": [
    "### Example 2.4 - Array Job Plus Summary Statistics"
   ]
  },
  {
   "cell_type": "code",
   "execution_count": null,
   "metadata": {},
   "outputs": [],
   "source": []
  },
  {
   "cell_type": "markdown",
   "metadata": {},
   "source": [
    "## Exercise 2. Array Dataflow with `sys`"
   ]
  },
  {
   "cell_type": "code",
   "execution_count": null,
   "metadata": {},
   "outputs": [],
   "source": []
  }
 ],
 "metadata": {
  "kernelspec": {
   "display_name": "Python 3",
   "language": "python",
   "name": "python3"
  },
  "language_info": {
   "codemirror_mode": {
    "name": "ipython",
    "version": 3
   },
   "file_extension": ".py",
   "mimetype": "text/x-python",
   "name": "python",
   "nbconvert_exporter": "python",
   "pygments_lexer": "ipython3",
   "version": "3.6.4"
  },
  "latex_envs": {
   "LaTeX_envs_menu_present": true,
   "autoclose": false,
   "autocomplete": true,
   "bibliofile": "biblio.bib",
   "cite_by": "apalike",
   "current_citInitial": 1,
   "eqLabelWithNumbers": true,
   "eqNumInitial": 1,
   "hotkeys": {
    "equation": "Ctrl-E",
    "itemize": "Ctrl-I"
   },
   "labels_anchors": false,
   "latex_user_defs": false,
   "report_style_numbering": false,
   "user_envs_cfg": false
  }
 },
 "nbformat": 4,
 "nbformat_minor": 2
}
